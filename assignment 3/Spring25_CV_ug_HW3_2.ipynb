{
 "cells": [
  {
   "cell_type": "markdown",
   "metadata": {},
   "source": [
    "# HW3-2: MNIST 手写数字识别 （80分）\n",
    "\n",
    "- 本次作业的主题是使用深度学习技术对`MNIST`手写数字数据集进行分类。\n",
    "- 要求使用两种不同的深度学习模型，分别是多层感知机--`MLP`和卷积神经网络--`CNN`。\n",
    "- 本次作业的目的是让同学们了解深度学习模型的构建和训练过程，以及对经典视觉任务处理效果的对比。\n",
    "\n",
    "## 评分标准（更细致的评分标准见对应部分）\n",
    "\n",
    "- 数据读取和预处理：5分\n",
    "- 基于`MLP`的手写数字分类：30分 \n",
    "- 基于`CNN`的手写数字分类：30分\n",
    "- 结果讨论与对比分析：15分"
   ]
  },
  {
   "cell_type": "markdown",
   "metadata": {},
   "source": [
    "\n",
    "---\n",
    "\n",
    "## 第一部分：数据读取和预处理\n",
    "\n",
    "你可以在Canvas上下载如下两个文件：\n",
    "- 训练数据：`mnist_train.csv`\n",
    "- 测试数据：`mnist_test.csv`\n",
    "\n",
    "这两个文件包含了Mnist数据集的训练集和测试集。每一行的第一个数字表示标签，后面的784数字是28x28的图片像素值。\n",
    "- 请你正确读取并分别展示训练集和测试集的第一个样本（图像+label）。\n",
    "\n",
    "### 评分细则\n",
    "- 数据读取：2分\n",
    "- 数据展示：3分"
   ]
  },
  {
   "cell_type": "code",
   "execution_count": null,
   "metadata": {},
   "outputs": [],
   "source": [
    "\n",
    "# Code Here"
   ]
  },
  {
   "cell_type": "markdown",
   "metadata": {},
   "source": [
    "---\n",
    "## 第二部分：基于`MLP`的手写数字分类\n",
    "\n",
    "- 请你构建一个多层感知机模型，在Mnist数据集上进行训练和测试。\n",
    "- 可以使用`Pytorch`或者`Tensorflow`等深度学习框架。\n",
    "- 请你展示模型的训练过程（Loss曲线）和测试结果（分类精度）。\n",
    "\n",
    "### 评分细则\n",
    "- 模型构建：10分\n",
    "- 模型训练：10分 - 要求Loss曲线收敛\n",
    "- 模型测试：10分 - 要求分类精度达到90%以上"
   ]
  },
  {
   "cell_type": "code",
   "execution_count": null,
   "metadata": {},
   "outputs": [],
   "source": [
    "# Code here"
   ]
  },
  {
   "cell_type": "markdown",
   "metadata": {},
   "source": [
    "---\n",
    "## 第三部分：基于`CNN`的手写数字分类\n",
    "\n",
    "- 请你构建一个卷积神经网络模型，在Mnist数据集上进行训练和测试。\n",
    "- 可以使用`Pytorch`或者`Tensorflow`等深度学习框架。\n",
    "- 请你展示模型的训练过程（Loss曲线）和测试结果（分类精度）。\n",
    "\n",
    "### 评分细则\n",
    "- 模型构建：10分\n",
    "- 模型训练：10分 - 要求Loss曲线收敛\n",
    "- 模型测试：10分 - 要求分类精度达到95%以上"
   ]
  },
  {
   "cell_type": "code",
   "execution_count": null,
   "metadata": {},
   "outputs": [],
   "source": [
    "# Code here"
   ]
  },
  {
   "cell_type": "markdown",
   "metadata": {},
   "source": [
    "\n",
    "---\n",
    "## 第四部分：结果讨论与对比分析\n",
    "\n",
    "- 请你对`MLP`和`CNN`两种模型的训练和测试结果进行对比分析。\n",
    "- 你可以从模型的训练速度、模型的性能、模型的泛化能力等方面进行分析。\n",
    "    - 训练速度：模型训练所需的时间\n",
    "    - 模型性能：模型在测试集上的分类精度\n",
    "    - 模型泛化能力：模型在未知数据上的表现，未知数据可以从Canvas上下载，在文件夹`unseen`中有5张手写数字图片。\n",
    "- 请在下面的markdown cell中写下你的分析结果。\n",
    "\n",
    "### 评分细则\n",
    "- 结果讨论与对比分析：\n",
    "    - 训练速度：4分\n",
    "    - 模型性能：4分\n",
    "    - 模型泛化能力：5分\n",
    "    - 其他：2分"
   ]
  },
  {
   "cell_type": "markdown",
   "metadata": {},
   "source": []
  }
 ],
 "metadata": {
  "language_info": {
   "name": "python"
  }
 },
 "nbformat": 4,
 "nbformat_minor": 2
}
