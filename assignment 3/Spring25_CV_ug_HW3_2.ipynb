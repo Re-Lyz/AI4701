{
 "cells": [
  {
   "cell_type": "markdown",
   "metadata": {},
   "source": [
    "# HW3-2: MNIST 手写数字识别 （80分）\n",
    "\n",
    "- 本次作业的主题是使用深度学习技术对`MNIST`手写数字数据集进行分类。\n",
    "- 要求使用两种不同的深度学习模型，分别是多层感知机--`MLP`和卷积神经网络--`CNN`。\n",
    "- 本次作业的目的是让同学们了解深度学习模型的构建和训练过程，以及对经典视觉任务处理效果的对比。\n",
    "\n",
    "## 评分标准（更细致的评分标准见对应部分）\n",
    "\n",
    "- 数据读取和预处理：5分\n",
    "- 基于`MLP`的手写数字分类：30分 \n",
    "- 基于`CNN`的手写数字分类：30分\n",
    "- 结果讨论与对比分析：15分"
   ]
  },
  {
   "cell_type": "markdown",
   "metadata": {},
   "source": [
    "\n",
    "---\n",
    "\n",
    "## 第一部分：数据读取和预处理\n",
    "\n",
    "你可以在Canvas上下载如下两个文件：\n",
    "- 训练数据：`mnist_train.csv`\n",
    "- 测试数据：`mnist_test.csv`\n",
    "\n",
    "这两个文件包含了Mnist数据集的训练集和测试集。每一行的第一个数字表示标签，后面的784数字是28x28的图片像素值。\n",
    "- 请你正确读取并分别展示训练集和测试集的第一个样本（图像+label）。\n",
    "\n",
    "### 评分细则\n",
    "- 数据读取：2分\n",
    "- 数据展示：3分"
   ]
  },
  {
   "cell_type": "code",
   "execution_count": 15,
   "metadata": {},
   "outputs": [
    {
     "data": {
      "image/png": "[encoded data removed]",
      "text/plain": [
       "<Figure size 600x600 with 9 Axes>"
      ]
     },
     "metadata": {},
     "output_type": "display_data"
    }
   ],
   "source": [
    "import pandas as pd\n",
    "import matplotlib.pyplot as plt\n",
    "\n",
    "train_df = pd.read_csv('mnist_train.csv')\n",
    "test_df = pd.read_csv('mnist_test.csv')\n",
    "\n",
    "train_df.head()\n",
    "test_df.head()\n",
    "\n",
    "labels = train_df.iloc[:, 0].values\n",
    "pixels = train_df.iloc[:, 1:].values\n",
    "images = pixels.reshape(-1, 28, 28)\n",
    "\n",
    "fig, axes = plt.subplots(3, 3, figsize=(6, 6))\n",
    "for i, ax in enumerate(axes.flatten()):\n",
    "    ax.imshow(images[i], cmap='gray')\n",
    "    ax.set_title(f'Label: {labels[i]}', fontsize=10)\n",
    "    ax.axis('off')\n",
    "plt.tight_layout()\n",
    "plt.show()\n",
    "# Code Here"
   ]
  },
  {
   "cell_type": "markdown",
   "metadata": {},
   "source": [
    "---\n",
    "## 第二部分：基于`MLP`的手写数字分类\n",
    "\n",
    "- 请你构建一个多层感知机模型，在Mnist数据集上进行训练和测试。\n",
    "- 可以使用`Pytorch`或者`Tensorflow`等深度学习框架。\n",
    "- 请你展示模型的训练过程（Loss曲线）和测试结果（分类精度）。\n",
    "\n",
    "### 评分细则\n",
    "- 模型构建：10分\n",
    "- 模型训练：10分 - 要求Loss曲线收敛\n",
    "- 模型测试：10分 - 要求分类精度达到90%以上"
   ]
  },
  {
   "cell_type": "code",
   "execution_count": 16,
   "metadata": {},
   "outputs": [
    {
     "name": "stderr",
     "output_type": "stream",
     "text": [
      "Epoch 1/10: 100%|██████████| 844/844 [00:00<00:00, 979.63it/s] \n"
     ]
    },
    {
     "name": "stdout",
     "output_type": "stream",
     "text": [
      "Epoch 1/10 — Loss: 0.3582 — Accuracy: 90.90%\n",
      "Validation Loss: 0.0768 — Validation Accuracy: 91.22%\n"
     ]
    },
    {
     "name": "stderr",
     "output_type": "stream",
     "text": [
      "Epoch 2/10: 100%|██████████| 844/844 [00:00<00:00, 993.38it/s] \n"
     ]
    },
    {
     "name": "stdout",
     "output_type": "stream",
     "text": [
      "Epoch 2/10 — Loss: 0.1493 — Accuracy: 95.51%\n",
      "Validation Loss: 0.0786 — Validation Accuracy: 95.49%\n"
     ]
    },
    {
     "name": "stderr",
     "output_type": "stream",
     "text": [
      "Epoch 3/10: 100%|██████████| 844/844 [00:00<00:00, 974.16it/s]\n"
     ]
    },
    {
     "name": "stdout",
     "output_type": "stream",
     "text": [
      "Epoch 3/10 — Loss: 0.1148 — Accuracy: 96.51%\n",
      "Validation Loss: 0.0364 — Validation Accuracy: 96.45%\n"
     ]
    },
    {
     "name": "stderr",
     "output_type": "stream",
     "text": [
      "Epoch 4/10: 100%|██████████| 844/844 [00:00<00:00, 905.05it/s]\n"
     ]
    },
    {
     "name": "stdout",
     "output_type": "stream",
     "text": [
      "Epoch 4/10 — Loss: 0.1006 — Accuracy: 96.91%\n",
      "Validation Loss: 0.0815 — Validation Accuracy: 96.79%\n"
     ]
    },
    {
     "name": "stderr",
     "output_type": "stream",
     "text": [
      "Epoch 5/10: 100%|██████████| 844/844 [00:00<00:00, 933.56it/s]\n"
     ]
    },
    {
     "name": "stdout",
     "output_type": "stream",
     "text": [
      "Epoch 5/10 — Loss: 0.0900 — Accuracy: 97.33%\n",
      "Validation Loss: 0.0310 — Validation Accuracy: 97.24%\n"
     ]
    },
    {
     "name": "stderr",
     "output_type": "stream",
     "text": [
      "Epoch 6/10: 100%|██████████| 844/844 [00:00<00:00, 920.01it/s]\n"
     ]
    },
    {
     "name": "stdout",
     "output_type": "stream",
     "text": [
      "Epoch 6/10 — Loss: 0.0801 — Accuracy: 97.61%\n",
      "Validation Loss: 0.0981 — Validation Accuracy: 97.45%\n"
     ]
    },
    {
     "name": "stderr",
     "output_type": "stream",
     "text": [
      "Epoch 7/10: 100%|██████████| 844/844 [00:00<00:00, 926.94it/s]\n"
     ]
    },
    {
     "name": "stdout",
     "output_type": "stream",
     "text": [
      "Epoch 7/10 — Loss: 0.0732 — Accuracy: 97.78%\n",
      "Validation Loss: 0.1206 — Validation Accuracy: 97.56%\n"
     ]
    },
    {
     "name": "stderr",
     "output_type": "stream",
     "text": [
      "Epoch 8/10: 100%|██████████| 844/844 [00:00<00:00, 936.76it/s]\n"
     ]
    },
    {
     "name": "stdout",
     "output_type": "stream",
     "text": [
      "Epoch 8/10 — Loss: 0.0721 — Accuracy: 97.86%\n",
      "Validation Loss: 0.0535 — Validation Accuracy: 97.71%\n"
     ]
    },
    {
     "name": "stderr",
     "output_type": "stream",
     "text": [
      "Epoch 9/10: 100%|██████████| 844/844 [00:00<00:00, 945.12it/s]\n"
     ]
    },
    {
     "name": "stdout",
     "output_type": "stream",
     "text": [
      "Epoch 9/10 — Loss: 0.0625 — Accuracy: 98.14%\n",
      "Validation Loss: 0.0441 — Validation Accuracy: 97.96%\n"
     ]
    },
    {
     "name": "stderr",
     "output_type": "stream",
     "text": [
      "Epoch 10/10: 100%|██████████| 844/844 [00:00<00:00, 950.12it/s]\n"
     ]
    },
    {
     "name": "stdout",
     "output_type": "stream",
     "text": [
      "Epoch 10/10 — Loss: 0.0638 — Accuracy: 98.10%\n",
      "Validation Loss: 0.0336 — Validation Accuracy: 97.97%\n",
      "test Accuracy: 96.92%\n"
     ]
    }
   ],
   "source": [
    "# Code here\n",
    "import torch\n",
    "import torch.nn as nn\n",
    "import tqdm as tqdm\n",
    "from sklearn.model_selection import train_test_split\n",
    "\n",
    "\n",
    "class SimpleNN(nn.Module):\n",
    "    def __init__(self):\n",
    "        super(SimpleNN, self).__init__()\n",
    "        self.fc1 = nn.Linear(784, 128)  # 28*28=784\n",
    "        self.fc2 = nn.Linear(128, 64)\n",
    "        self.fc3 = nn.Linear(64, 10)  # 10 classes for digits 0-9\n",
    "\n",
    "    def forward(self, x):\n",
    "        x = torch.relu(self.fc1(x))\n",
    "        x = torch.relu(self.fc2(x))\n",
    "        x = self.fc3(x)\n",
    "        return x\n",
    "    \n",
    "# Convert DataFrame to PyTorch tensors\n",
    "def df_to_tensor(df):\n",
    "    labels   = torch.as_tensor(df.iloc[:, 0].values, dtype=torch.long)\n",
    "    features = torch.as_tensor(df.iloc[:, 1:].values, dtype=torch.float32)\n",
    "    return features, labels\n",
    "\n",
    "model=SimpleNN()\n",
    "device = torch.device('cuda' if torch.cuda.is_available() else 'cpu')\n",
    "model.to(device)\n",
    "\n",
    "learning_rate = 0.001\n",
    "batch_size = 64\n",
    "\n",
    "optimizer = torch.optim.Adam(model.parameters(), lr=learning_rate)\n",
    "criterion = nn.CrossEntropyLoss()\n",
    "\n",
    "train_features, train_labels = df_to_tensor(train_df)\n",
    "\n",
    "train_features = train_features.to(device)\n",
    "train_labels   = train_labels.to(device)\n",
    "train_dataset = torch.utils.data.TensorDataset(train_features, train_labels)\n",
    "train_dataset, val_dataset = train_test_split(train_dataset, test_size=0.1, random_state=42)\n",
    "train_loader = torch.utils.data.DataLoader(train_dataset, batch_size=batch_size, shuffle=True)\n",
    "val_loader = torch.utils.data.DataLoader(val_dataset, batch_size=batch_size, shuffle=False)\n",
    "\n",
    "def train_model(model, train_loader,val_loader, criterion, optimizer, epochs=10):\n",
    "    model.train()\n",
    "    for epoch in range(epochs):\n",
    "        running_loss = 0.0\n",
    "        correct     = 0\n",
    "        total       = 0\n",
    "        \n",
    "        for features, labels in tqdm.tqdm(train_loader, desc=f'Epoch {epoch+1}/{epochs}'):\n",
    "            optimizer.zero_grad()\n",
    "            \n",
    "            outputs = model(features)                   \n",
    "            loss    = criterion(outputs, labels)        \n",
    "            loss.backward()                            \n",
    "            optimizer.step()                            \n",
    "\n",
    "            batch_size     = labels.size(0)\n",
    "            running_loss  += loss.item() * batch_size\n",
    "            \n",
    "            preds          = outputs.argmax(dim=1)\n",
    "            correct      += (preds == labels).sum().item()\n",
    "            total        += batch_size\n",
    "        \n",
    "        # 计算 epoch 平均损失和准确率\n",
    "        epoch_loss = running_loss / total\n",
    "        accuracy   = 100 * correct / total\n",
    "        \n",
    "        print(\n",
    "            f'Epoch {epoch+1}/{epochs} — '\n",
    "            f'Loss: {epoch_loss:.4f} — '\n",
    "            f'Accuracy: {accuracy:.2f}%'\n",
    "        )\n",
    "        \n",
    "        for features, labels in val_loader:\n",
    "            model.eval()\n",
    "            outputs = model(features)\n",
    "            loss = criterion(outputs, labels)\n",
    "            preds = outputs.argmax(dim=1)\n",
    "            correct += (preds == labels).sum().item()\n",
    "            total += labels.size(0)\n",
    "        print(f'Validation Loss: {loss.item():.4f} — Validation Accuracy: {100 * correct / total:.2f}%')\n",
    "            \n",
    "\n",
    "test_features, test_labels = df_to_tensor(test_df)\n",
    "test_features = test_features.to(device)\n",
    "test_labels   = test_labels.to(device)        \n",
    "test_dataset = torch.utils.data.TensorDataset(test_features, test_labels)\n",
    "test_loader = torch.utils.data.DataLoader(test_dataset, batch_size=batch_size, shuffle=False)\n",
    "\n",
    "def evaluate_model(model, test_loader):\n",
    "    model.eval()\n",
    "    correct = 0\n",
    "    total = 0\n",
    "    with torch.no_grad():\n",
    "        for features, labels in test_loader:\n",
    "            outputs = model(features)\n",
    "            _, predicted = torch.max(outputs.data, 1)\n",
    "            total += labels.size(0)\n",
    "            correct += (predicted == labels).sum().item()\n",
    "    accuracy = 100 * correct / total\n",
    "    print(f'test Accuracy: {accuracy:.2f}%')\n",
    "\n",
    "train_model(model, train_loader,val_loader, criterion, optimizer, epochs=10)\n",
    "evaluate_model(model, test_loader)\n"
   ]
  },
  {
   "cell_type": "code",
   "execution_count": 17,
   "metadata": {},
   "outputs": [
    {
     "name": "stdout",
     "output_type": "stream",
     "text": [
      "使用设备：cuda\n",
      "unseen_1.jpg  |  gt: unseen_1  |  pred_idx: 3\n",
      "unseen_4.jpg  |  gt: unseen_4  |  pred_idx: 9\n",
      "unseen_5.jpg  |  gt: unseen_5  |  pred_idx: 5\n",
      "unseen_7.jpg  |  gt: unseen_7  |  pred_idx: 1\n",
      "unseen_9.jpg  |  gt: unseen_9  |  pred_idx: 8\n",
      "评估结束。\n"
     ]
    }
   ],
   "source": [
    "import os\n",
    "import sys\n",
    "from PIL import Image\n",
    "\n",
    "def load_image_to_tensor(image_path, device):\n",
    "    img = Image.open(image_path).convert(\"L\")\n",
    "    byte_tensor = torch.ByteTensor(torch.ByteStorage.from_buffer(img.tobytes()))\n",
    "    hw_tensor = byte_tensor.view(img.size[1], img.size[0]).float()  # 转换为 float32\n",
    "    return hw_tensor.to(device)\n",
    "\n",
    "\n",
    "def main():\n",
    "    data_dir   =\"unseen\" \n",
    "    if not os.path.isdir(data_dir):\n",
    "        print(f\"[Error] 指定的图片文件夹不存在：{data_dir}\")\n",
    "        sys.exit(1)\n",
    "        \n",
    "    device = torch.device(\"cuda\" if torch.cuda.is_available() else \"cpu\")\n",
    "    print(f\"使用设备：{device}\")\n",
    "    model.eval()\n",
    "    model.to(device)\n",
    "\n",
    "\n",
    "    exts = {\".jpg\", \".jpeg\", \".png\", \".bmp\", \".gif\", \".tiff\"}\n",
    "    image_paths = []\n",
    "    for fname in os.listdir(data_dir):\n",
    "        ext = os.path.splitext(fname)[1].lower()\n",
    "        if ext in exts:\n",
    "            image_paths.append(os.path.join(data_dir, fname))\n",
    "    image_paths.sort()\n",
    "\n",
    "    if len(image_paths) == 0:\n",
    "        print(f\"[Error] 目录 {data_dir} 下没有找到任何图片文件。\")\n",
    "        sys.exit(1)\n",
    "\n",
    "    with torch.no_grad():\n",
    "        for img_path in image_paths:\n",
    "            filename = os.path.basename(img_path)\n",
    "            gt_label = os.path.splitext(filename)[0]  # 去掉扩展名作为真实标签\n",
    "\n",
    "            input_tensor = load_image_to_tensor(img_path, device)  # (1, 1, H, W)\n",
    "            input_tensor = input_tensor.view(1,-1)  # 展平为 (1, 784)\n",
    "            \n",
    "            outputs = model(input_tensor)  # 假设 outputs.shape = (1, num_classes)\n",
    "            pred_idx = torch.argmax(outputs).item()\n",
    "\n",
    "            # 6.3 直接打印当前图片的结果\n",
    "            print(f\"{filename}  |  gt: {gt_label}  |  pred_idx: {pred_idx}\")\n",
    "\n",
    "    print(\"评估结束。\")\n",
    "\n",
    "if __name__ == \"__main__\":\n",
    "    main()\n"
   ]
  },
  {
   "cell_type": "markdown",
   "metadata": {},
   "source": [
    "---\n",
    "## 第三部分：基于`CNN`的手写数字分类\n",
    "\n",
    "- 请你构建一个卷积神经网络模型，在Mnist数据集上进行训练和测试。\n",
    "- 可以使用`Pytorch`或者`Tensorflow`等深度学习框架。\n",
    "- 请你展示模型的训练过程（Loss曲线）和测试结果（分类精度）。\n",
    "\n",
    "### 评分细则\n",
    "- 模型构建：10分\n",
    "- 模型训练：10分 - 要求Loss曲线收敛\n",
    "- 模型测试：10分 - 要求分类精度达到95%以上"
   ]
  },
  {
   "cell_type": "code",
   "execution_count": 18,
   "metadata": {},
   "outputs": [
    {
     "name": "stderr",
     "output_type": "stream",
     "text": [
      "Epoch 1/10: 100%|██████████| 844/844 [00:01<00:00, 599.91it/s]\n"
     ]
    },
    {
     "name": "stdout",
     "output_type": "stream",
     "text": [
      "Epoch 1/10 — Loss: 0.3410 — Accuracy: 94.67%\n",
      "Validation Loss: 0.0209 — Validation Accuracy: 94.90%\n"
     ]
    },
    {
     "name": "stderr",
     "output_type": "stream",
     "text": [
      "Epoch 2/10: 100%|██████████| 844/844 [00:01<00:00, 723.89it/s]\n"
     ]
    },
    {
     "name": "stdout",
     "output_type": "stream",
     "text": [
      "Epoch 2/10 — Loss: 0.0620 — Accuracy: 97.97%\n",
      "Validation Loss: 0.0062 — Validation Accuracy: 97.96%\n"
     ]
    },
    {
     "name": "stderr",
     "output_type": "stream",
     "text": [
      "Epoch 3/10: 100%|██████████| 844/844 [00:01<00:00, 677.71it/s]\n"
     ]
    },
    {
     "name": "stdout",
     "output_type": "stream",
     "text": [
      "Epoch 3/10 — Loss: 0.0428 — Accuracy: 98.69%\n",
      "Validation Loss: 0.0975 — Validation Accuracy: 98.65%\n"
     ]
    },
    {
     "name": "stderr",
     "output_type": "stream",
     "text": [
      "Epoch 4/10: 100%|██████████| 844/844 [00:01<00:00, 732.37it/s]\n"
     ]
    },
    {
     "name": "stdout",
     "output_type": "stream",
     "text": [
      "Epoch 4/10 — Loss: 0.0370 — Accuracy: 98.79%\n",
      "Validation Loss: 0.0074 — Validation Accuracy: 98.71%\n"
     ]
    },
    {
     "name": "stderr",
     "output_type": "stream",
     "text": [
      "Epoch 5/10: 100%|██████████| 844/844 [00:01<00:00, 710.90it/s]\n"
     ]
    },
    {
     "name": "stdout",
     "output_type": "stream",
     "text": [
      "Epoch 5/10 — Loss: 0.0299 — Accuracy: 99.04%\n",
      "Validation Loss: 0.0578 — Validation Accuracy: 98.96%\n"
     ]
    },
    {
     "name": "stderr",
     "output_type": "stream",
     "text": [
      "Epoch 6/10: 100%|██████████| 844/844 [00:01<00:00, 715.57it/s]\n"
     ]
    },
    {
     "name": "stdout",
     "output_type": "stream",
     "text": [
      "Epoch 6/10 — Loss: 0.0251 — Accuracy: 99.22%\n",
      "Validation Loss: 0.0001 — Validation Accuracy: 99.13%\n"
     ]
    },
    {
     "name": "stderr",
     "output_type": "stream",
     "text": [
      "Epoch 7/10: 100%|██████████| 844/844 [00:01<00:00, 714.62it/s]\n"
     ]
    },
    {
     "name": "stdout",
     "output_type": "stream",
     "text": [
      "Epoch 7/10 — Loss: 0.0250 — Accuracy: 99.17%\n",
      "Validation Loss: 0.0084 — Validation Accuracy: 99.12%\n"
     ]
    },
    {
     "name": "stderr",
     "output_type": "stream",
     "text": [
      "Epoch 8/10: 100%|██████████| 844/844 [00:01<00:00, 719.00it/s]\n"
     ]
    },
    {
     "name": "stdout",
     "output_type": "stream",
     "text": [
      "Epoch 8/10 — Loss: 0.0205 — Accuracy: 99.34%\n",
      "Validation Loss: 0.0536 — Validation Accuracy: 99.25%\n"
     ]
    },
    {
     "name": "stderr",
     "output_type": "stream",
     "text": [
      "Epoch 9/10: 100%|██████████| 844/844 [00:01<00:00, 731.96it/s]\n"
     ]
    },
    {
     "name": "stdout",
     "output_type": "stream",
     "text": [
      "Epoch 9/10 — Loss: 0.0184 — Accuracy: 99.43%\n",
      "Validation Loss: 0.0778 — Validation Accuracy: 99.33%\n"
     ]
    },
    {
     "name": "stderr",
     "output_type": "stream",
     "text": [
      "Epoch 10/10: 100%|██████████| 844/844 [00:01<00:00, 745.73it/s]\n"
     ]
    },
    {
     "name": "stdout",
     "output_type": "stream",
     "text": [
      "Epoch 10/10 — Loss: 0.0200 — Accuracy: 99.38%\n",
      "Validation Loss: 0.1853 — Validation Accuracy: 99.28%\n",
      "test Accuracy: 98.43%\n"
     ]
    }
   ],
   "source": [
    "# Code here\n",
    "class SimpleCNN(nn.Module):\n",
    "    def __init__(self):\n",
    "        super(SimpleCNN, self).__init__()\n",
    "        self.conv1 = nn.Conv2d(1, 32, kernel_size=3, padding=1)  # 28x28 -> 28x28\n",
    "        self.conv2 = nn.Conv2d(32, 64, kernel_size=3, padding=1)  # 28x28 -> 28x28\n",
    "        self.fc1 = nn.Linear(64 * 7 * 7, 128)  # 7x7 after pooling\n",
    "        self.fc2 = nn.Linear(128, 10)\n",
    "\n",
    "    def forward(self, x):\n",
    "        x = torch.relu(self.conv1(x))\n",
    "        x = torch.max_pool2d(x, kernel_size=2)  # 28x28 -> 14x14\n",
    "        x = torch.relu(self.conv2(x))\n",
    "        x = torch.max_pool2d(x, kernel_size=2)  # 14x14 -> 7x7\n",
    "        x = x.view(x.size(0), -1)  # Flatten\n",
    "        x = torch.relu(self.fc1(x))\n",
    "        x = self.fc2(x)\n",
    "        return x\n",
    "\n",
    "model = SimpleCNN()\n",
    "model.to(device)\n",
    "optimizer = torch.optim.Adam(model.parameters(), lr=learning_rate)\n",
    "criterion = nn.CrossEntropyLoss()\n",
    "\n",
    "train_features, train_labels = df_to_tensor(train_df)\n",
    "train_features = train_features.view(-1, 1, 28, 28).to(device)  # Reshape for CNN\n",
    "train_labels = train_labels.to(device)\n",
    "train_dataset = torch.utils.data.TensorDataset(train_features, train_labels)\n",
    "train_dataset, val_dataset = train_test_split(train_dataset, test_size=0.1, random_state=42)\n",
    "train_loader = torch.utils.data.DataLoader(train_dataset, batch_size=batch_size, shuffle=True)\n",
    "val_loader = torch.utils.data.DataLoader(val_dataset, batch_size=batch_size, shuffle=False)\n",
    "\n",
    "test_features, test_labels = df_to_tensor(test_df)\n",
    "test_features = test_features.view(-1, 1, 28, 28).to(device)  # Reshape for CNN\n",
    "test_labels = test_labels.to(device)\n",
    "test_dataset = torch.utils.data.TensorDataset(test_features, test_labels)\n",
    "test_loader = torch.utils.data.DataLoader(test_dataset, batch_size=batch_size, shuffle=False)\n",
    "\n",
    "train_model(model, train_loader,val_loader, criterion, optimizer, epochs=10)\n",
    "evaluate_model(model, test_loader)\n",
    "\n",
    "\n"
   ]
  },
  {
   "cell_type": "code",
   "execution_count": 25,
   "metadata": {},
   "outputs": [
    {
     "name": "stdout",
     "output_type": "stream",
     "text": [
      "使用设备：cuda\n",
      "开始评估，共 5 张图片。\n",
      "unseen_1.jpg  |  gt: unseen_1  |  pred_idx: 1\n",
      "unseen_4.jpg  |  gt: unseen_4  |  pred_idx: 4\n",
      "unseen_5.jpg  |  gt: unseen_5  |  pred_idx: 5\n",
      "unseen_7.jpg  |  gt: unseen_7  |  pred_idx: 7\n",
      "unseen_9.jpg  |  gt: unseen_9  |  pred_idx: 9\n",
      "评估结束。\n"
     ]
    }
   ],
   "source": [
    "\n",
    "def main():\n",
    "    data_dir   =\"unseen\" \n",
    "    if not os.path.isdir(data_dir):\n",
    "        print(f\"[Error] 指定的图片文件夹不存在：{data_dir}\")\n",
    "        sys.exit(1)\n",
    "        \n",
    "    device = torch.device(\"cuda\" if torch.cuda.is_available() else \"cpu\")\n",
    "    print(f\"使用设备：{device}\")\n",
    "    model.eval()\n",
    "    \n",
    "    model.to(device)\n",
    "\n",
    "\n",
    "    exts = {\".jpg\", \".jpeg\", \".png\", \".bmp\", \".gif\", \".tiff\"}\n",
    "    image_paths = []\n",
    "    for fname in os.listdir(data_dir):\n",
    "        ext = os.path.splitext(fname)[1].lower()\n",
    "        if ext in exts:\n",
    "            image_paths.append(os.path.join(data_dir, fname))\n",
    "    image_paths.sort()\n",
    "\n",
    "    if len(image_paths) == 0:\n",
    "        print(f\"[Error] 目录 {data_dir} 下没有找到任何图片文件。\")\n",
    "        sys.exit(1)\n",
    "\n",
    "    print(f\"开始评估，共 {len(image_paths)} 张图片。\")\n",
    "    with torch.no_grad():\n",
    "        for img_path in image_paths:\n",
    "            filename = os.path.basename(img_path)\n",
    "            gt_label = os.path.splitext(filename)[0]  # 去掉扩展名作为真实标签\n",
    "\n",
    "            input_tensor = load_image_to_tensor(img_path, device)  \n",
    "            input_tensor = input_tensor.unsqueeze(0).unsqueeze(0)\n",
    "                \n",
    "            outputs = model(input_tensor)  # 假设 outputs.shape = (1, num_classes)\n",
    "            pred_idx = torch.argmax(outputs, dim=1).item()\n",
    "\n",
    "            # 6.3 直接打印当前图片的结果\n",
    "            print(f\"{filename}  |  gt: {gt_label}  |  pred_idx: {pred_idx}\")\n",
    "\n",
    "    print(\"评估结束。\")\n",
    "\n",
    "if __name__ == \"__main__\":\n",
    "    main()\n"
   ]
  },
  {
   "cell_type": "markdown",
   "metadata": {},
   "source": [
    "\n",
    "---\n",
    "## 第四部分：结果讨论与对比分析\n",
    "\n",
    "- 请你对`MLP`和`CNN`两种模型的训练和测试结果进行对比分析。\n",
    "- 你可以从模型的训练速度、模型的性能、模型的泛化能力等方面进行分析。\n",
    "    - 训练速度：模型训练所需的时间\n",
    "    - 模型性能：模型在测试集上的分类精度\n",
    "    - 模型泛化能力：模型在未知数据上的表现，未知数据可以从Canvas上下载，在文件夹`unseen`中有5张手写数字图片。\n",
    "- 请在下面的markdown cell中写下你的分析结果。\n",
    "\n",
    "### 评分细则\n",
    "- 结果讨论与对比分析：\n",
    "    - 训练速度：4分\n",
    "    - 模型性能：4分\n",
    "    - 模型泛化能力：5分\n",
    "    - 其他：2分"
   ]
  },
  {
   "cell_type": "markdown",
   "metadata": {},
   "source": [
    "| 评估维度                    | MLP                                                                   | CNN                                                                    | 结论                                                   |\n",
    "| ----------------------- | --------------------------------------------------------------------- | ---------------------------------------------------------------------- | ---------------------------------------------------- |\n",
    "| **训练速度**                | - **首轮** ≈ 0.86 s（979 it/s）<br>- 其后约 0.9 s/epoch（920 – 950 it/s）      | - **首轮** ≈ 1.41 s（600 it/s）<br>- 其后约 1.1 – 1.2 s/epoch（680 – 745 it/s） | MLP 约 **25 – 30 %** 更快：全连接层参数少、计算密集度低；CNN 的卷积核计算更耗时。 |\n",
    "| **模型性能**<br>(测试集)       | **96.92 %**                                                           | **98.43 %**                                                            | CNN 高出 **1.51 pp**。卷积层可提取局部空间特征，对手写数字尤其有效。           |\n",
    "| **训练-验证差异**             | - 末轮训练 98.10 % vs 验证 97.97 %<br>- 差值 **0.13 pp**<br>- 验证损失整体稳定，偶有小幅波动 | - 末轮训练 99.38 % vs 验证 99.28 %<br>- 差值 **0.10 pp**<br>- 验证损失偶尔抬头，但幅度更小   | 两者过拟合都轻微，CNN 仍略占优势。                                  |\n",
    "| **泛化能力**<br>(unseen 数据) | 5 张未知样本仅预测对 **1/5**（20 %）；对噪声、位置变换更敏感                                 | 5 张全部预测正确 **5/5**（100 %）；卷积的平移不变性带来更强鲁棒性                               | CNN 显著优于 MLP，在真实未知数据上表现更稳健。                          |\n"
   ]
  }
 ],
 "metadata": {
  "kernelspec": {
   "display_name": "base",
   "language": "python",
   "name": "python3"
  },
  "language_info": {
   "codemirror_mode": {
    "name": "ipython",
    "version": 3
   },
   "file_extension": ".py",
   "mimetype": "text/x-python",
   "name": "python",
   "nbconvert_exporter": "python",
   "pygments_lexer": "ipython3",
   "version": "3.12.3"
  }
 },
 "nbformat": 4,
 "nbformat_minor": 2
}
