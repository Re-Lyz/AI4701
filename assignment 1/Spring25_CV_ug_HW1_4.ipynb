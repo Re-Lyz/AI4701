{
 "cells": [
  {
   "cell_type": "markdown",
   "metadata": {},
   "source": [
    " 计算机视觉（25春）作业1-4 (25分)\n",
    "---\n",
    "\n",
    "## 题目: DLT算法的使用\n",
    "- **给定理想二维匹配点对集合，请使用DLT算法估计其所对应的单应性矩阵H。**\n",
    "- 二维匹配点数据文件名为：2D_correspondences4DLT_H_25.txt\n",
    "    - 存储格式为：每行4个数，分别为 (x1, x2, y1, y2)，表示两个平面间的匹配点坐标。\n",
    "- 请在下面的代码框中编写DLT算法的实现，并输出估计得到的单应性矩阵H。\n",
    "\n",
    "---\n",
    "### 环境配置：以anaconda为例\n",
    "\n",
    "```shell\n",
    "    # anaconda的安装请根据自己的操作系统下载对应的安装包，官网链接：https://www.anaconda.com/products/distribution\n",
    "    # 具体安装过程可以参考知乎，b站，CSDN等网站上的安装教程\n",
    "    # 假设你已经成功安装了anaconda，打开terminal（linux/mac）or Anaconda Prompt（windows）\n",
    "    cd <你的文件夹路径>\n",
    "    conda create -n cv python=3.8 # 创建python虚拟环境，名字为cv，python版本为3.8\n",
    "    conda activate cv # 激活虚拟环境\n",
    "    conda install jupyter notebook # 安装jupyter notebook\n",
    "    pip install --upgrade pip # 升级pip\n",
    "    pip install opencv-python # 安装opencv\n",
    "    pip install numpy # 安装numpy\n",
    "    jupyter notebook # 运行jupyter notebook\n",
    "    # 上一条指令将在默认的网页浏览器中开启一个新的工作空间，你可以在其中打开该.ipynb文件\n",
    "```\n",
    "\n",
    "---"
   ]
  },
  {
   "cell_type": "markdown",
   "metadata": {},
   "source": [
    "## 数据读取与展示部分\n",
    "- 请在下面的代码框中实现对数据的读取与展示。\n",
    "- 评分细则：\n",
    "    1.数据读取与展示的正确性。（5分）"
   ]
  },
  {
   "cell_type": "code",
   "execution_count": 13,
   "metadata": {},
   "outputs": [
    {
     "name": "stdout",
     "output_type": "stream",
     "text": [
      "Number of rows:\n",
      "100\n",
      "5 row of data:\n",
      "[[98.27726696  0.88381594 68.56320055  3.52420276]\n",
      " [46.79868548  0.92020821 29.41655793  3.48053121]\n",
      " [77.47361618  0.78093792 73.74343828  3.62680435]\n",
      " [94.91709971  1.29491575 19.37235034  3.10858387]\n",
      " [83.8524972   0.99361846 42.69456762  3.41207569]]\n"
     ]
    }
   ],
   "source": [
    "# Code here\n",
    "import numpy as np\n",
    "data = np.loadtxt('2D_correspondences4DLT_H_25.txt')\n",
    "num=data.shape[0]\n",
    "print(\"Number of rows:\")\n",
    "print(num)\n",
    "print(\"5 row of data:\")\n",
    "print(data[:5])\n",
    "\n",
    "# hint: use np.loadtxt"
   ]
  },
  {
   "cell_type": "markdown",
   "metadata": {},
   "source": [
    "---\n",
    "\n",
    "## 数据处理部分\n",
    "- 请在下面的代码框中实现数据的预处理，主要为齐次坐标的构造，并展示你的处理结果。\n",
    "- 评分细则：\n",
    "    1. 齐次坐标构造是否正确（5分）"
   ]
  },
  {
   "cell_type": "code",
   "execution_count": 31,
   "metadata": {},
   "outputs": [
    {
     "name": "stdout",
     "output_type": "stream",
     "text": [
      "P1_arr:\n",
      "[[98.27726696 68.56320055  1.        ]\n",
      " [46.79868548 29.41655793  1.        ]\n",
      " [77.47361618 73.74343828  1.        ]\n",
      " [94.91709971 19.37235034  1.        ]\n",
      " [83.8524972  42.69456762  1.        ]]\n",
      "P2_arr:\n",
      "[[0.88381594 3.52420276 1.        ]\n",
      " [0.92020821 3.48053121 1.        ]\n",
      " [0.78093792 3.62680435 1.        ]\n",
      " [1.29491575 3.10858387 1.        ]\n",
      " [0.99361846 3.41207569 1.        ]]\n"
     ]
    }
   ],
   "source": [
    "# Code here\n",
    "P1=[]\n",
    "P2=[]\n",
    "\n",
    "for axis in data:\n",
    "    P1.append([axis[0], axis[2],1])\n",
    "    P2.append([axis[1], axis[3],1])\n",
    "\n",
    "P1_arr = np.array(P1, dtype=np.float64)   \n",
    "P2_arr = np.array(P2, dtype=np.float64) \n",
    "\n",
    "print(\"P1_arr:\")\n",
    "print(P1_arr[:5])\n",
    "print(\"P2_arr:\")\n",
    "print(P2_arr[:5])\n"
   ]
  },
  {
   "cell_type": "markdown",
   "metadata": {},
   "source": [
    "--- \n",
    "\n",
    "## DLT算法实现部分\n",
    "- 请在下面的代码框中实现DLT算法，并输出估计得到的单应性矩阵H。\n",
    "- 注意：\n",
    "    1. 你可以直接使用cv2.findHomography()函数，如果采用此方法，请在下面的Markdown框中附上手算的过程和结果，并对比两种方法的结果。\n",
    "        - 评分细则：\n",
    "            - opencv函数调用是否正确（5分）\n",
    "    2. 你也可以自己实现DLT算法，此时则**不需要**附上手算的过程和结果。\n",
    "        - 评分细则：\n",
    "            - DLT算法实现是否正确（10分）\n",
    "            - 结果是否正确（5分）"
   ]
  },
  {
   "cell_type": "markdown",
   "metadata": {},
   "source": [
    "---\n",
    "*如果直接调用cv2.findHomography()函数，请在此处附上手算的过程和结果：*\n",
    "- 如有需要，请熟悉Latex和Markdown的相关语法，方便书写数学公式和文字说明。\n",
    "- 评分细则：\n",
    "    - 算法流程正确性（4分）\n",
    "    - SVD分解结果正确性（4分）\n",
    "    - 两种方法结果一致性（2分）\n",
    "- 以下为答题区域，可以使用多个Markdown或者Code单元格\n",
    "\n",
    "---"
   ]
  },
  {
   "cell_type": "code",
   "execution_count": 41,
   "metadata": {},
   "outputs": [
    {
     "name": "stdout",
     "output_type": "stream",
     "text": [
      "H1:\n",
      "[[-0.18041973 -0.06193671 -0.10569404]\n",
      " [-0.28611376 -0.87113027 -0.21138808]\n",
      " [-0.10569404 -0.21138808 -0.10569404]]\n",
      "H2:\n",
      "[[-0.00631692 -0.00216855 -0.0037006 ]\n",
      " [-0.01001752 -0.03050034 -0.0074012 ]\n",
      " [-0.0037006  -0.0074012  -0.0037006 ]]\n",
      "取第一个点验证：\n",
      "P1_arr[0]:\n",
      "[98.27726696 68.56320055  1.        ]\n",
      "p2:\n",
      "[0.88381594 3.52420276 1.        ]\n",
      "P2_arr[0]:\n",
      "[0.88381594 3.52420276 1.        ]\n"
     ]
    }
   ],
   "source": [
    "# Code here\n",
    "def normalize_points(pts):\n",
    "    \"\"\"\n",
    "    pts: (N,2) 原始点\n",
    "    返回: pts_norm: (N,2), T: (3,3) 归一化矩阵\n",
    "    \"\"\"\n",
    "    mean = pts.mean(axis=0)\n",
    "    pts_centered = pts - mean\n",
    "    avg_dist = np.mean(np.linalg.norm(pts_centered, axis=1))\n",
    "    scale = np.sqrt(2) / avg_dist\n",
    "\n",
    "    T = np.array([[scale,     0, -scale*mean[0]],\n",
    "                  [    0, scale, -scale*mean[1]],\n",
    "                  [    0,     0,              1]])\n",
    "    ones = np.ones((pts.shape[0],1))\n",
    "    pts_h = np.hstack([pts, ones])\n",
    "    pts_norm_h = (T @ pts_h.T).T\n",
    "    return pts_norm_h[:, :2], T\n",
    "\n",
    "\n",
    "def compute_homography_dlt(pts1, pts2):\n",
    "    \"\"\"\n",
    "    pts1,pts2: (N,2) 归一化后的对应点，N>=4\n",
    "    返回: H (3×3) 归一化空间下的 Homography\n",
    "    \"\"\"\n",
    "    N = pts1.shape[0]\n",
    "    A = np.zeros((2*N, 9))\n",
    "    for i, (x1, x2) in enumerate(zip(pts1, pts2)):\n",
    "\n",
    "        A[2*i] = [x1[0], x1[1], 1, 0, 0, 0, -x2[0]*x1[0], -x2[0]*x1[1], -x2[0]]\n",
    "        A[2*i+1] = [0, 0, 0, x1[0], x1[1], 1, -x2[1]*x1[0], -x2[1]*x1[1], -x2[1]]\n",
    "    _, _, Vt = np.linalg.svd(A)\n",
    "    h = Vt[-1]\n",
    "    return h.reshape(3,3)\n",
    "\n",
    "pts1, T1 = normalize_points(P1_arr[:, :2])\n",
    "pts2, T2 = normalize_points(P2_arr[:, :2])\n",
    "\n",
    "H1 = compute_homography_dlt(P1_arr, P2_arr)\n",
    "H2 = compute_homography_dlt(pts1, pts2)\n",
    "H2 = np.linalg.inv(T2) @ H2 @ T1\n",
    "\n",
    "print(\"H1:\")\n",
    "print(H1)\n",
    "print(\"H2:\")\n",
    "print(H2)\n",
    "\n",
    "\n",
    "print(\"取第一个点验证：\")\n",
    "p2=H2@P1_arr[0]\n",
    "print(\"P1_arr[0]:\")\n",
    "print(P1_arr[0])\n",
    "print(\"p2:\")\n",
    "print(p2/ p2[2])\n",
    "print(\"P2_arr[0]:\")\n",
    "print(P2_arr[0])\n",
    "\n"
   ]
  },
  {
   "cell_type": "markdown",
   "metadata": {},
   "source": []
  }
 ],
 "metadata": {
  "kernelspec": {
   "display_name": "cv",
   "language": "python",
   "name": "python3"
  },
  "language_info": {
   "codemirror_mode": {
    "name": "ipython",
    "version": 3
   },
   "file_extension": ".py",
   "mimetype": "text/x-python",
   "name": "python",
   "nbconvert_exporter": "python",
   "pygments_lexer": "ipython3",
   "version": "3.11.10"
  }
 },
 "nbformat": 4,
 "nbformat_minor": 2
}
